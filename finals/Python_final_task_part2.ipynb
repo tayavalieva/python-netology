{
 "cells": [
  {
   "cell_type": "code",
   "execution_count": 1,
   "metadata": {
    "collapsed": false
   },
   "outputs": [],
   "source": [
    "import vk\n",
    "import pandas as pd\n",
    "import numpy as np\n",
    "import matplotlib.pyplot as plt\n",
    "%matplotlib inline\n",
    "from datetime import datetime, date\n",
    "from requests import ReadTimeout\n",
    "from ipywidgets import IntProgress\n",
    "from IPython.display import display"
   ]
  },
  {
   "cell_type": "code",
   "execution_count": 2,
   "metadata": {
    "collapsed": false
   },
   "outputs": [],
   "source": [
    "user_id = ''\n",
    "app_id = ''\n",
    "login = ''\n",
    "password = ''\n",
    "session = vk.AuthSession(app_id=app_id, user_login=login, user_password=password)\n",
    "api = vk.API(session)"
   ]
  },
  {
   "cell_type": "code",
   "execution_count": 3,
   "metadata": {
    "collapsed": false
   },
   "outputs": [],
   "source": [
    "groups_df = pd.read_json('C:/Users/Taya/Desktop/Coursera analytics/Python/python-netology/finals/groups.json').sort_values(by=['FansNumber'], ascending=False).head(5)"
   ]
  },
  {
   "cell_type": "code",
   "execution_count": 4,
   "metadata": {
    "collapsed": false
   },
   "outputs": [
    {
     "data": {
      "text/html": [
       "<div>\n",
       "<table border=\"1\" class=\"dataframe\">\n",
       "  <thead>\n",
       "    <tr style=\"text-align: right;\">\n",
       "      <th></th>\n",
       "      <th>GroupName</th>\n",
       "      <th>FansNumber</th>\n",
       "    </tr>\n",
       "  </thead>\n",
       "  <tbody>\n",
       "    <tr>\n",
       "      <th>0</th>\n",
       "      <td>Esquire</td>\n",
       "      <td>56</td>\n",
       "    </tr>\n",
       "    <tr>\n",
       "      <th>1</th>\n",
       "      <td>KudaGo: Москва</td>\n",
       "      <td>51</td>\n",
       "    </tr>\n",
       "    <tr>\n",
       "      <th>2</th>\n",
       "      <td>Шедевры рекламы</td>\n",
       "      <td>36</td>\n",
       "    </tr>\n",
       "    <tr>\n",
       "      <th>3</th>\n",
       "      <td>Science|Наука</td>\n",
       "      <td>35</td>\n",
       "    </tr>\n",
       "    <tr>\n",
       "      <th>4</th>\n",
       "      <td>Лепра</td>\n",
       "      <td>34</td>\n",
       "    </tr>\n",
       "  </tbody>\n",
       "</table>\n",
       "</div>"
      ],
      "text/plain": [
       "         GroupName  FansNumber\n",
       "0          Esquire          56\n",
       "1   KudaGo: Москва          51\n",
       "2  Шедевры рекламы          36\n",
       "3    Science|Наука          35\n",
       "4            Лепра          34"
      ]
     },
     "execution_count": 4,
     "metadata": {},
     "output_type": "execute_result"
    }
   ],
   "source": [
    "groups_df[['GroupName','FansNumber']]"
   ]
  },
  {
   "cell_type": "code",
   "execution_count": 5,
   "metadata": {
    "collapsed": false
   },
   "outputs": [],
   "source": [
    "def get_group_info_df(group_id):\n",
    "    response = api.groups.getMembers(group_id=group_id, fields=['sex', 'bdate'])\n",
    "    users_count = response['count']\n",
    "    users_list = response['users']\n",
    "    df = pd.DataFrame(users_list)\n",
    "    progress = IntProgress(min=0, max=users_count, value=len(df.index))\n",
    "    display(progress)\n",
    "    while len(df.index) < users_count:\n",
    "        try: \n",
    "            offset = len(df.index)\n",
    "            df_to_add = pd.DataFrame(api.groups.getMembers(group_id=group_id, fields=['sex', 'bdate'], offset=offset)['users'])\n",
    "            df = df.merge(df_to_add)\n",
    "            progress.value = len(df.index)\n",
    "        except:\n",
    "            pass\n",
    "    return df"
   ]
  },
  {
   "cell_type": "code",
   "execution_count": 8,
   "metadata": {
    "collapsed": false
   },
   "outputs": [],
   "source": [
    "def calculate_age(bdate_str):\n",
    "    if bdate_str.count(\".\") != 2:\n",
    "        return 0\n",
    "    bdate = datetime.strptime(bdate_str, '%d.%m.%Y').date()\n",
    "    today = date.today()\n",
    "    return today.year - bdate.year - ((today.month, today.day) < (bdate.month, bdate.day))"
   ]
  },
  {
   "cell_type": "code",
   "execution_count": 9,
   "metadata": {
    "collapsed": false
   },
   "outputs": [],
   "source": [
    "def display_ages_chart(df, group_name):\n",
    "    ages = df[\"bdate\"].map(calculate_age)\n",
    "    pd.cut(ages, [10, 15, 20, 30, 40, 80, 1000], labels=[\"10-15\", \"16-20\",\"21-30\", \"31-40\", \"41-80\", \"80 и старше\"]).value_counts().plot.pie(title=\"Возраст участников группы\"+\"group_name\")\n",
    "    \n",
    "def display_sex_chart(df, group_name):\n",
    "    df['sex'].replace(1,\"Ж\").replace(2,\"М\").value_counts().plot.bar(title=\"Распределение полов\")"
   ]
  },
  {
   "cell_type": "code",
   "execution_count": null,
   "metadata": {
    "collapsed": false
   },
   "outputs": [],
   "source": [
    "for i, row in groups_df.iterrows():\n",
    "    df = get_group_info_df(row[\"GroupID\"])\n",
    "    display_ages_chart(df, row[\"GroupName\"])\n",
    "    display_sex_chart(df, row[\"GroupName\"])"
   ]
  },
  {
   "cell_type": "code",
   "execution_count": null,
   "metadata": {
    "collapsed": true
   },
   "outputs": [],
   "source": [
    ""
   ]
  }
 ],
 "metadata": {
  "anaconda-cloud": {},
  "kernelspec": {
   "display_name": "Python [default]",
   "language": "python",
   "name": "python3"
  },
  "language_info": {
   "codemirror_mode": {
    "name": "ipython",
    "version": 3.0
   },
   "file_extension": ".py",
   "mimetype": "text/x-python",
   "name": "python",
   "nbconvert_exporter": "python",
   "pygments_lexer": "ipython3",
   "version": "3.5.2"
  }
 },
 "nbformat": 4,
 "nbformat_minor": 0
}